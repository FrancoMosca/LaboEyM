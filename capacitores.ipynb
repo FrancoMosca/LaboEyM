{
 "cells": [
  {
   "cell_type": "code",
   "execution_count": 1,
   "metadata": {},
   "outputs": [
    {
     "name": "stderr",
     "output_type": "stream",
     "text": [
      "Matplotlib is building the font cache; this may take a moment.\n"
     ]
    },
    {
     "name": "stdout",
     "output_type": "stream",
     "text": [
      "dict_values([3.8, 5.9])\n"
     ]
    }
   ],
   "source": [
    "import matplotlib.pyplot as plt\n",
    "\n",
    "vidrios = {\"B\":3.8,\"C\":5.9}\n",
    "\n",
    "acrilicos = {\"A\":1.9,\"B\":2.35,\"C\":2.9,\"D\":3.7,\"E\":4.5}\n",
    "\n",
    "\n",
    "arrayVidrios = vidrios.values()\n",
    "arrayAcrilicos = acrilicos.values()\n",
    "\n",
    "plt.plot(arrayVidrios, arrayAcrilicos)\n",
    "\n"
   ]
  },
  {
   "cell_type": "markdown",
   "metadata": {},
   "source": [
    "# Trabajo práctico 3 - Capacitores\n",
    "\n",
    "Placas de vidrio - medidas: Placa B - 3,80mm Placa C - 5,90mm\n",
    "\n",
    "\n",
    "Placas de acrílico - medidas: A - 1,90mm B - 2,35mm C - 2,90mm D - 3,70mm E 4,50mm\n",
    "\n",
    "## Medidas con vidrio\n",
    "\n",
    "### Primera configuración\n",
    "\n",
    "Primera medida: Placa C - 326nf\n",
    "\n",
    "### Segunda configuración\n",
    "\n",
    "Primera medida: Placa B - 430nf\n",
    "\n",
    "### Tercera configuración\n",
    "\n",
    "Primera medida: Placa B y placa C - 230nf\n",
    "\n",
    "### Cuarta configuración\n",
    "\n",
    "Primera medida: Placa C x2 - 202nf\n",
    "\n",
    "### Quinta configuración\n",
    "\n",
    "Primera medida: Placa B x2 - 274nf\n",
    "\n",
    "## Medidas con acrílico\n",
    "\n",
    "### Primera configuración\n",
    "\n",
    "Primera medida: Placa D - 293nf\n",
    "\n",
    "### Segunda configuración\n",
    "\n",
    "Primera medida: Placa A - 455nf\n",
    "\n",
    "### Tercera configuración\n",
    "\n",
    "Primera medida: Placa E - 230nf\n",
    "\n",
    "### Cuarta configuración\n",
    "\n",
    "Primera medida: Placas E y D - 147nf\n",
    "\n",
    "### Quinta configuración\n",
    "\n",
    "Primera medida: Placas E, D y A - 124nf\n"
   ]
  }
 ],
 "metadata": {
  "kernelspec": {
   "display_name": "Python 3",
   "language": "python",
   "name": "python3"
  },
  "language_info": {
   "codemirror_mode": {
    "name": "ipython",
    "version": 3
   },
   "file_extension": ".py",
   "mimetype": "text/x-python",
   "name": "python",
   "nbconvert_exporter": "python",
   "pygments_lexer": "ipython3",
   "version": "3.9.6"
  }
 },
 "nbformat": 4,
 "nbformat_minor": 2
}
