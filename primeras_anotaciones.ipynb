{
 "cells": [
  {
   "cell_type": "markdown",
   "metadata": {},
   "source": [
    "# Trabajo práctico 3 - Capacitores\n",
    "\n",
    "Placas de vidrio - medidas: Placa B - 3,80mm Placa C - 5,90mm\n",
    "\n",
    "\n",
    "Placas de acrílico - medidas: A - 1,90mm B - 2,35mm C - 2,90mm D - 3,70mm E 4,50mm\n",
    "\n",
    "## Medidas con vidrio\n",
    "\n",
    "### Primera configuración\n",
    "\n",
    "Primera medida: Placa C - 326nf\n",
    "\n",
    "### Segunda configuración\n",
    "\n",
    "Primera medida: Placa B - 430nf\n",
    "\n",
    "### Tercera configuración\n",
    "\n",
    "Primera medida: Placa B y placa C - 230nf\n",
    "\n",
    "### Cuarta configuración\n",
    "\n",
    "Primera medida: Placa C x2 - 202nf\n",
    "\n",
    "### Quinta configuración\n",
    "\n",
    "Primera medida: Placa B x2 - 274nf\n",
    "\n",
    "## Medidas con acrílico\n",
    "\n",
    "### Primera configuración\n",
    "\n",
    "Primera medida: Placa D - 293nf\n",
    "\n",
    "### Segunda configuración\n",
    "\n",
    "Primera medida: Placa A - 455nf\n",
    "\n",
    "### Tercera configuración\n",
    "\n",
    "Primera medida: Placa E - 230nf\n",
    "\n",
    "### Cuarta configuración\n",
    "\n",
    "Primera medida: Placas E y D - 147nf\n",
    "\n",
    "### Quinta configuración\n",
    "\n",
    "Primera medida: Placas E, D y A - 124nf\n"
   ]
  }
 ],
 "metadata": {
  "language_info": {
   "name": "python"
  }
 },
 "nbformat": 4,
 "nbformat_minor": 2
}
